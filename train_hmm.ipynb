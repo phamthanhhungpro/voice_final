{
  "nbformat": 4,
  "nbformat_minor": 0,
  "metadata": {
    "colab": {
      "name": "XLTN.ipynb",
      "provenance": [],
      "collapsed_sections": []
    },
    "kernelspec": {
      "name": "python3",
      "display_name": "Python 3"
    }
  },
  "cells": [
    {
      "cell_type": "code",
      "metadata": {
        "id": "YSer4bv2JH3K",
        "colab_type": "code",
        "colab": {
          "base_uri": "https://localhost:8080/",
          "height": 34
        },
        "outputId": "dff6cbd4-95ae-4c0e-d5a0-88580bdcdd78"
      },
      "source": [
        "from google.colab import drive\n",
        "drive.mount('/content/drive')"
      ],
      "execution_count": 64,
      "outputs": [
        {
          "output_type": "stream",
          "text": [
            "Drive already mounted at /content/drive; to attempt to forcibly remount, call drive.mount(\"/content/drive\", force_remount=True).\n"
          ],
          "name": "stdout"
        }
      ]
    },
    {
      "cell_type": "code",
      "metadata": {
        "id": "xSAPjoK4-Omc",
        "colab_type": "code",
        "colab": {
          "base_uri": "https://localhost:8080/",
          "height": 34
        },
        "outputId": "494f2a04-a548-4e3d-f60a-ef183e2cda73"
      },
      "source": [
        "%cd /content/drive/My Drive"
      ],
      "execution_count": 65,
      "outputs": [
        {
          "output_type": "stream",
          "text": [
            "/content/drive/My Drive\n"
          ],
          "name": "stdout"
        }
      ]
    },
    {
      "cell_type": "code",
      "metadata": {
        "id": "lBrxtWLJAZtE",
        "colab_type": "code",
        "colab": {}
      },
      "source": [
        "import pickle\n",
        "import random"
      ],
      "execution_count": 66,
      "outputs": []
    },
    {
      "cell_type": "code",
      "metadata": {
        "id": "Gnhk2kAzTp2-",
        "colab_type": "code",
        "colab": {
          "base_uri": "https://localhost:8080/",
          "height": 102
        },
        "outputId": "f45c055e-c615-4c8b-c7f4-49b04bdde333"
      },
      "source": [
        "!pip install hmmlearn"
      ],
      "execution_count": 67,
      "outputs": [
        {
          "output_type": "stream",
          "text": [
            "Requirement already satisfied: hmmlearn in /usr/local/lib/python3.6/dist-packages (0.2.3)\n",
            "Requirement already satisfied: scikit-learn>=0.16 in /usr/local/lib/python3.6/dist-packages (from hmmlearn) (0.22.2.post1)\n",
            "Requirement already satisfied: scipy>=0.15 in /usr/local/lib/python3.6/dist-packages (from hmmlearn) (1.4.1)\n",
            "Requirement already satisfied: numpy>=1.10 in /usr/local/lib/python3.6/dist-packages (from hmmlearn) (1.18.5)\n",
            "Requirement already satisfied: joblib>=0.11 in /usr/local/lib/python3.6/dist-packages (from scikit-learn>=0.16->hmmlearn) (0.15.1)\n"
          ],
          "name": "stdout"
        }
      ]
    },
    {
      "cell_type": "code",
      "metadata": {
        "id": "Qr-kCUlP-iSJ",
        "colab_type": "code",
        "colab": {}
      },
      "source": [
        "import librosa\n",
        "import numpy as np\n",
        "import os\n",
        "import math\n",
        "from sklearn.cluster import KMeans\n",
        "import hmmlearn.hmm"
      ],
      "execution_count": 68,
      "outputs": []
    },
    {
      "cell_type": "code",
      "metadata": {
        "id": "mL-U3QMF-scI",
        "colab_type": "code",
        "colab": {}
      },
      "source": [
        "import tensorflow as tf\n",
        "from tensorflow import keras"
      ],
      "execution_count": 69,
      "outputs": []
    },
    {
      "cell_type": "code",
      "metadata": {
        "id": "ya2I1RVS-0V_",
        "colab_type": "code",
        "colab": {}
      },
      "source": [
        "def get_mfcc(file_path):\n",
        "    y, sr = librosa.load(file_path) # read .wav file\n",
        "    hop_length = math.floor(sr*0.010) # 10ms hop\n",
        "    win_length = math.floor(sr*0.025) # 25ms frame\n",
        "    # mfcc is 12 x T matrix\n",
        "    mfcc = librosa.feature.mfcc(\n",
        "        y, sr, n_mfcc=12, n_fft=1024,\n",
        "        hop_length=hop_length)\n",
        "        #hop_length=hop_length, win_length=win_length)\n",
        "    # substract mean from mfcc --> normalize mfcc\n",
        "    mfcc = mfcc - np.mean(mfcc, axis=1).reshape((-1,1)) \n",
        "    # delta feature 1st order and 2nd order\n",
        "    delta1 = librosa.feature.delta(mfcc, order=1)\n",
        "    delta2 = librosa.feature.delta(mfcc, order=2)\n",
        "    # X is 36 x T\n",
        "    X = np.concatenate([mfcc, delta1, delta2], axis=0) # O^r\n",
        "    # return T x 36 (transpose of X)\n",
        "    return X.T # hmmlearn use T x N matrix"
      ],
      "execution_count": 70,
      "outputs": []
    },
    {
      "cell_type": "code",
      "metadata": {
        "id": "AQOVsyJZ-6p3",
        "colab_type": "code",
        "colab": {}
      },
      "source": [
        "def get_class_data(data_dir):\n",
        "    files = os.listdir(data_dir)\n",
        "    mfcc = [get_mfcc(os.path.join(data_dir,f)) for f in files if f.endswith(\".wav\")]\n",
        "    return mfcc"
      ],
      "execution_count": 71,
      "outputs": []
    },
    {
      "cell_type": "code",
      "metadata": {
        "id": "42Jmjsli-9bH",
        "colab_type": "code",
        "colab": {}
      },
      "source": [
        "def clustering(X, n_clusters=5):\n",
        "    kmeans = KMeans(n_clusters=n_clusters, n_init=50, random_state=0, verbose=0)\n",
        "    kmeans.fit(X)\n",
        "    print(\"centers\", kmeans.cluster_centers_.shape)\n",
        "    return kmeans  "
      ],
      "execution_count": 72,
      "outputs": []
    },
    {
      "cell_type": "code",
      "metadata": {
        "id": "ISVBg1nc_DY-",
        "colab_type": "code",
        "colab": {
          "base_uri": "https://localhost:8080/",
          "height": 102
        },
        "outputId": "5df29083-8a39-4593-b616-1ddd0d2040ba"
      },
      "source": [
        "class_names = [\"bat_den\", \"tat_den\", \"test_bat_den\", \"test_tat_den\"]\n",
        "dataset = {}\n",
        "for cname in class_names:\n",
        "    print(f\"Load {cname} dataset\")\n",
        "    dataset[cname] = get_class_data(os.path.join(\"./data/\", cname))\n",
        "print(\"Load complete !\")"
      ],
      "execution_count": 95,
      "outputs": [
        {
          "output_type": "stream",
          "text": [
            "Load bat_den dataset\n",
            "Load tat_den dataset\n",
            "Load test_bat_den dataset\n",
            "Load test_tat_den dataset\n",
            "Load complete !\n"
          ],
          "name": "stdout"
        }
      ]
    },
    {
      "cell_type": "code",
      "metadata": {
        "id": "RFFDVPd5_bA-",
        "colab_type": "code",
        "colab": {
          "base_uri": "https://localhost:8080/",
          "height": 68
        },
        "outputId": "d8e12ffa-3d47-4da4-8836-73a16b4f3008"
      },
      "source": [
        "\n",
        "# Get all vectors in the datasets\n",
        "all_vectors = np.concatenate([np.concatenate(v, axis=0) for k, v in dataset.items()], axis=0)\n",
        "print(\"vectors\", all_vectors.shape)\n",
        "# Run K-Means algorithm to get clusters\n",
        "kmeans = clustering(all_vectors)\n",
        "print(\"centers\", kmeans.cluster_centers_.shape)"
      ],
      "execution_count": 74,
      "outputs": [
        {
          "output_type": "stream",
          "text": [
            "vectors (23951, 36)\n",
            "centers (5, 36)\n",
            "centers (5, 36)\n"
          ],
          "name": "stdout"
        }
      ]
    },
    {
      "cell_type": "code",
      "metadata": {
        "id": "E4S33KPkMc3w",
        "colab_type": "code",
        "colab": {
          "base_uri": "https://localhost:8080/",
          "height": 153
        },
        "outputId": "6ebca9b8-02fd-4417-b88e-d42d760498a7"
      },
      "source": [
        "for key, val in dataset.items():\n",
        "    print(key,'\\n', np.array(val).shape)"
      ],
      "execution_count": 75,
      "outputs": [
        {
          "output_type": "stream",
          "text": [
            "bat_den \n",
            " (75,)\n",
            "tat_den \n",
            " (75,)\n",
            "test_bat_den \n",
            " (22,)\n",
            "test_tat_den \n",
            " (22,)\n"
          ],
          "name": "stdout"
        }
      ]
    },
    {
      "cell_type": "code",
      "metadata": {
        "id": "5_mkeAl3cZrS",
        "colab_type": "code",
        "colab": {}
      },
      "source": [
        "models = {}\n",
        "original_dataset = {}"
      ],
      "execution_count": 76,
      "outputs": []
    },
    {
      "cell_type": "code",
      "metadata": {
        "id": "qn9MushJ_rlF",
        "colab_type": "code",
        "colab": {
          "base_uri": "https://localhost:8080/",
          "height": 1000
        },
        "outputId": "d02edb1d-e68b-4ff7-f92d-3a133f819ccf"
      },
      "source": [
        "cname = \"bat_den\"\n",
        "original_dataset[cname] = dataset[cname].copy()\n",
        "class_vectors = dataset[cname]\n",
        "\n",
        "dataset[cname] = list([kmeans.predict(v).reshape(-1,1) for v in original_dataset[cname]])\n",
        "random.shuffle(dataset[cname])\n",
        "\n",
        "hmm = hmmlearn.hmm.MultinomialHMM(\n",
        "    n_components=19, random_state=0, n_iter=1000, verbose=True,\n",
        "    params='te',\n",
        "    init_params='e'\n",
        ")\n",
        "hmm.startprob_=np.array([0.7, 0.2, 0.1, 0.0, 0.0, 0.0, 0.0, 0.0, 0.0, 0.0, 0.0, 0.0, 0.0, 0.0, 0.0, 0.0, 0.0, 0.0, 0.0])\n",
        "hmm.transmat_=np.array([ \n",
        "    [0.7, 0.2, 0.1, 0.0, 0.0, 0.0, 0.0, 0.0, 0.0, 0.0, 0.0, 0.0, 0.0, 0.0, 0.0, 0.0, 0.0, 0.0, 0.0],\n",
        "    [0.0, 0.7, 0.2, 0.1, 0.0, 0.0, 0.0, 0.0, 0.0, 0.0, 0.0, 0.0, 0.0, 0.0, 0.0, 0.0, 0.0, 0.0, 0.0],\n",
        "    [0.0, 0.0, 0.7, 0.2, 0.1, 0.0, 0.0, 0.0, 0.0, 0.0, 0.0, 0.0, 0.0, 0.0, 0.0, 0.0, 0.0, 0.0, 0.0],\n",
        "    [0.0, 0.0, 0.0, 0.7, 0.2, 0.1, 0.0, 0.0, 0.0, 0.0, 0.0, 0.0, 0.0, 0.0, 0.0, 0.0, 0.0, 0.0, 0.0],\n",
        "    [0.0, 0.0, 0.0, 0.0, 0.7, 0.2, 0.1, 0.0, 0.0, 0.0, 0.0, 0.0, 0.0, 0.0, 0.0, 0.0, 0.0, 0.0, 0.0],\n",
        "    [0.0, 0.0, 0.0, 0.0, 0.0, 0.7, 0.2, 0.1, 0.0, 0.0, 0.0, 0.0, 0.0, 0.0, 0.0, 0.0, 0.0, 0.0, 0.0],\n",
        "    [0.0, 0.0, 0.0, 0.0, 0.0, 0.0, 0.7, 0.2, 0.1, 0.0, 0.0, 0.0, 0.0, 0.0, 0.0, 0.0, 0.0, 0.0, 0.0],\n",
        "    [0.0, 0.0, 0.0, 0.0, 0.0, 0.0, 0.0, 0.7, 0.2, 0.1, 0.0, 0.0, 0.0, 0.0, 0.0, 0.0, 0.0, 0.0, 0.0],\n",
        "    [0.0, 0.0, 0.0, 0.0, 0.0, 0.0, 0.0, 0.0, 0.7, 0.2, 0.1, 0.0, 0.0, 0.0, 0.0, 0.0, 0.0, 0.0, 0.0],\n",
        "    [0.0, 0.0, 0.0, 0.0, 0.0, 0.0, 0.0, 0.0, 0.0, 0.7, 0.2, 0.1, 0.0, 0.0, 0.0, 0.0, 0.0, 0.0, 0.0],\n",
        "    [0.0, 0.0, 0.0, 0.0, 0.0, 0.0, 0.0, 0.0, 0.0, 0.0, 0.7, 0.2, 0.1, 0.0, 0.0, 0.0, 0.0, 0.0, 0.0],\n",
        "    [0.0, 0.0, 0.0, 0.0, 0.0, 0.0, 0.0, 0.0, 0.0, 0.0, 0.0, 0.7, 0.2, 0.1, 0.0, 0.0, 0.0, 0.0, 0.0],\n",
        "    [0.0, 0.0, 0.0, 0.0, 0.0, 0.0, 0.0, 0.0, 0.0, 0.0, 0.0, 0.0, 0.7, 0.2, 0.1, 0.0, 0.0, 0.0, 0.0],\n",
        "    [0.0, 0.0, 0.0, 0.0, 0.0, 0.0, 0.0, 0.0, 0.0, 0.0, 0.0, 0.0, 0.0, 0.7, 0.2, 0.1, 0.0, 0.0, 0.0],\n",
        "    [0.0, 0.0, 0.0, 0.0, 0.0, 0.0, 0.0, 0.0, 0.0, 0.0, 0.0, 0.0, 0.0, 0.0, 0.7, 0.2, 0.1, 0.0, 0.0],\n",
        "    [0.0, 0.0, 0.0, 0.0, 0.0, 0.0, 0.0, 0.0, 0.0, 0.0, 0.0, 0.0, 0.0, 0.0, 0.0, 0.7, 0.2, 0.1, 0.0],\n",
        "    [0.0, 0.0, 0.0, 0.0, 0.0, 0.0, 0.0, 0.0, 0.0, 0.0, 0.0, 0.0, 0.0, 0.0, 0.0, 0.0, 0.7, 0.2, 0.1],\n",
        "    [0.0, 0.0, 0.0, 0.0, 0.0, 0.0, 0.0, 0.0, 0.0, 0.0, 0.0, 0.0, 0.0, 0.0, 0.0, 0.0, 0.0, 0.7, 0.3],\n",
        "    [0.0, 0.0, 0.0, 0.0, 0.0, 0.0, 0.0, 0.0, 0.0, 0.0, 0.0, 0.0, 0.0, 0.0, 0.0, 0.0, 0.0, 0.0, 1.]\n",
        "    ])\n",
        "\n",
        "X = np.concatenate(dataset[cname])\n",
        "lengths = list([len(x) for x in dataset[cname]])\n",
        "print(\"training class\", cname)\n",
        "print(X.shape, lengths, len(lengths))\n",
        "hmm.fit(X, lengths=lengths)\n",
        "models[cname] = hmm"
      ],
      "execution_count": 77,
      "outputs": [
        {
          "output_type": "stream",
          "text": [
            "training class bat_den\n",
            "(10146, 1) [129, 140, 209, 94, 116, 161, 94, 177, 108, 161, 194, 131, 100, 140, 103, 94, 225, 165, 202, 137, 193, 145, 124, 177, 161, 137, 94, 139, 84, 161, 161, 75, 124, 165, 193, 171, 171, 129, 84, 122, 84, 129, 100, 137, 94, 84, 129, 84, 145, 110, 103, 103, 161, 103, 161, 75, 145, 103, 145, 147, 137, 181, 193, 225, 84, 97, 177, 84, 84, 84, 139, 145, 241, 112, 131] 75\n"
          ],
          "name": "stdout"
        },
        {
          "output_type": "stream",
          "text": [
            "         1      -14610.8433             +nan\n",
            "         2       -5568.2128       +9042.6305\n",
            "         3       -4244.9355       +1323.2773\n",
            "         4       -4022.2945        +222.6410\n",
            "         5       -3928.0877         +94.2068\n",
            "         6       -3850.1228         +77.9649\n",
            "         7       -3770.2294         +79.8934\n",
            "         8       -3742.5329         +27.6965\n",
            "         9       -3730.6014         +11.9315\n",
            "        10       -3717.0269         +13.5745\n",
            "        11       -3700.7611         +16.2658\n",
            "        12       -3681.1809         +19.5802\n",
            "        13       -3646.1382         +35.0427\n",
            "        14       -3547.8836         +98.2546\n",
            "        15       -3388.4413        +159.4422\n",
            "        16       -3293.9617         +94.4797\n",
            "        17       -3241.4507         +52.5109\n",
            "        18       -3202.5265         +38.9242\n",
            "        19       -3183.0257         +19.5008\n",
            "        20       -3175.4048          +7.6209\n",
            "        21       -3171.2564          +4.1484\n",
            "        22       -3168.8321          +2.4243\n",
            "        23       -3166.5884          +2.2437\n",
            "        24       -3157.9121          +8.6763\n",
            "        25       -3152.1891          +5.7230\n",
            "        26       -3151.6929          +0.4962\n",
            "        27       -3151.3370          +0.3559\n",
            "        28       -3150.9627          +0.3743\n",
            "        29       -3150.4853          +0.4775\n",
            "        30       -3149.8406          +0.6446\n",
            "        31       -3148.7659          +1.0747\n",
            "        32       -3146.3748          +2.3910\n",
            "        33       -3142.9314          +3.4435\n",
            "        34       -3140.1415          +2.7899\n",
            "        35       -3138.3862          +1.7553\n",
            "        36       -3137.2974          +1.0888\n",
            "        37       -3136.5980          +0.6995\n",
            "        38       -3136.1334          +0.4646\n",
            "        39       -3135.8129          +0.3205\n",
            "        40       -3135.5825          +0.2304\n",
            "        41       -3135.4103          +0.1722\n",
            "        42       -3135.2774          +0.1329\n",
            "        43       -3135.1723          +0.1052\n",
            "        44       -3135.0874          +0.0849\n",
            "        45       -3135.0178          +0.0696\n",
            "        46       -3134.9598          +0.0579\n",
            "        47       -3134.9105          +0.0493\n",
            "        48       -3134.8663          +0.0442\n",
            "        49       -3134.8206          +0.0457\n",
            "        50       -3134.7564          +0.0642\n",
            "        51       -3134.6282          +0.1282\n",
            "        52       -3134.3401          +0.2881\n",
            "        53       -3133.8241          +0.5160\n",
            "        54       -3133.2732          +0.5510\n",
            "        55       -3132.9295          +0.3437\n",
            "        56       -3132.7431          +0.1863\n",
            "        57       -3132.6245          +0.1186\n",
            "        58       -3132.5393          +0.0853\n",
            "        59       -3132.4728          +0.0664\n",
            "        60       -3132.4166          +0.0562\n",
            "        61       -3132.3639          +0.0527\n",
            "        62       -3132.3090          +0.0549\n",
            "        63       -3132.2472          +0.0618\n",
            "        64       -3132.1781          +0.0691\n",
            "        65       -3132.1098          +0.0683\n",
            "        66       -3132.0550          +0.0548\n",
            "        67       -3132.0192          +0.0358\n",
            "        68       -3131.9978          +0.0214\n",
            "        69       -3131.9842          +0.0136\n",
            "        70       -3131.9744          +0.0098\n"
          ],
          "name": "stderr"
        }
      ]
    },
    {
      "cell_type": "code",
      "metadata": {
        "id": "6od8ok7wcMaS",
        "colab_type": "code",
        "colab": {
          "base_uri": "https://localhost:8080/",
          "height": 802
        },
        "outputId": "a0fda1ec-af41-4156-9923-f027bc86150a"
      },
      "source": [
        "cname = \"tat_den\"\n",
        "original_dataset[cname] = dataset[cname].copy()\n",
        "class_vectors = dataset[cname]\n",
        "\n",
        "dataset[cname] = list([kmeans.predict(v).reshape(-1,1) for v in original_dataset[cname]])\n",
        "random.shuffle(dataset[cname])\n",
        "\n",
        "hmm = hmmlearn.hmm.MultinomialHMM(\n",
        "    n_components=19, random_state=0, n_iter=1000, verbose=True,\n",
        "    params='te',\n",
        "    init_params='e'\n",
        ")\n",
        "hmm.startprob_=np.array([0.7, 0.2, 0.1, 0.0, 0.0, 0.0, 0.0, 0.0, 0.0, 0.0, 0.0, 0.0, 0.0, 0.0, 0.0, 0.0, 0.0, 0.0, 0.0])\n",
        "hmm.transmat_=np.array([ \n",
        "    [0.7, 0.2, 0.1, 0.0, 0.0, 0.0, 0.0, 0.0, 0.0, 0.0, 0.0, 0.0, 0.0, 0.0, 0.0, 0.0, 0.0, 0.0, 0.0],\n",
        "    [0.0, 0.7, 0.2, 0.1, 0.0, 0.0, 0.0, 0.0, 0.0, 0.0, 0.0, 0.0, 0.0, 0.0, 0.0, 0.0, 0.0, 0.0, 0.0],\n",
        "    [0.0, 0.0, 0.7, 0.2, 0.1, 0.0, 0.0, 0.0, 0.0, 0.0, 0.0, 0.0, 0.0, 0.0, 0.0, 0.0, 0.0, 0.0, 0.0],\n",
        "    [0.0, 0.0, 0.0, 0.7, 0.2, 0.1, 0.0, 0.0, 0.0, 0.0, 0.0, 0.0, 0.0, 0.0, 0.0, 0.0, 0.0, 0.0, 0.0],\n",
        "    [0.0, 0.0, 0.0, 0.0, 0.7, 0.2, 0.1, 0.0, 0.0, 0.0, 0.0, 0.0, 0.0, 0.0, 0.0, 0.0, 0.0, 0.0, 0.0],\n",
        "    [0.0, 0.0, 0.0, 0.0, 0.0, 0.7, 0.2, 0.1, 0.0, 0.0, 0.0, 0.0, 0.0, 0.0, 0.0, 0.0, 0.0, 0.0, 0.0],\n",
        "    [0.0, 0.0, 0.0, 0.0, 0.0, 0.0, 0.7, 0.2, 0.1, 0.0, 0.0, 0.0, 0.0, 0.0, 0.0, 0.0, 0.0, 0.0, 0.0],\n",
        "    [0.0, 0.0, 0.0, 0.0, 0.0, 0.0, 0.0, 0.7, 0.2, 0.1, 0.0, 0.0, 0.0, 0.0, 0.0, 0.0, 0.0, 0.0, 0.0],\n",
        "    [0.0, 0.0, 0.0, 0.0, 0.0, 0.0, 0.0, 0.0, 0.7, 0.2, 0.1, 0.0, 0.0, 0.0, 0.0, 0.0, 0.0, 0.0, 0.0],\n",
        "    [0.0, 0.0, 0.0, 0.0, 0.0, 0.0, 0.0, 0.0, 0.0, 0.7, 0.2, 0.1, 0.0, 0.0, 0.0, 0.0, 0.0, 0.0, 0.0],\n",
        "    [0.0, 0.0, 0.0, 0.0, 0.0, 0.0, 0.0, 0.0, 0.0, 0.0, 0.7, 0.2, 0.1, 0.0, 0.0, 0.0, 0.0, 0.0, 0.0],\n",
        "    [0.0, 0.0, 0.0, 0.0, 0.0, 0.0, 0.0, 0.0, 0.0, 0.0, 0.0, 0.7, 0.2, 0.1, 0.0, 0.0, 0.0, 0.0, 0.0],\n",
        "    [0.0, 0.0, 0.0, 0.0, 0.0, 0.0, 0.0, 0.0, 0.0, 0.0, 0.0, 0.0, 0.7, 0.2, 0.1, 0.0, 0.0, 0.0, 0.0],\n",
        "    [0.0, 0.0, 0.0, 0.0, 0.0, 0.0, 0.0, 0.0, 0.0, 0.0, 0.0, 0.0, 0.0, 0.7, 0.2, 0.1, 0.0, 0.0, 0.0],\n",
        "    [0.0, 0.0, 0.0, 0.0, 0.0, 0.0, 0.0, 0.0, 0.0, 0.0, 0.0, 0.0, 0.0, 0.0, 0.7, 0.2, 0.1, 0.0, 0.0],\n",
        "    [0.0, 0.0, 0.0, 0.0, 0.0, 0.0, 0.0, 0.0, 0.0, 0.0, 0.0, 0.0, 0.0, 0.0, 0.0, 0.7, 0.2, 0.1, 0.0],\n",
        "    [0.0, 0.0, 0.0, 0.0, 0.0, 0.0, 0.0, 0.0, 0.0, 0.0, 0.0, 0.0, 0.0, 0.0, 0.0, 0.0, 0.7, 0.2, 0.1],\n",
        "    [0.0, 0.0, 0.0, 0.0, 0.0, 0.0, 0.0, 0.0, 0.0, 0.0, 0.0, 0.0, 0.0, 0.0, 0.0, 0.0, 0.0, 0.7, 0.3],\n",
        "    [0.0, 0.0, 0.0, 0.0, 0.0, 0.0, 0.0, 0.0, 0.0, 0.0, 0.0, 0.0, 0.0, 0.0, 0.0, 0.0, 0.0, 0.0, 1.]\n",
        "    ])\n",
        "X = np.concatenate(dataset[cname])\n",
        "lengths = list([len(x) for x in dataset[cname]])\n",
        "print(\"training class\", cname)\n",
        "print(X.shape, lengths, len(lengths))\n",
        "hmm.fit(X, lengths=lengths)\n",
        "models[cname] = hmm"
      ],
      "execution_count": 78,
      "outputs": [
        {
          "output_type": "stream",
          "text": [
            "training class tat_den\n",
            "(8465, 1) [129, 129, 97, 97, 139, 163, 97, 129, 113, 97, 84, 129, 94, 84, 84, 112, 75, 145, 129, 94, 75, 142, 126, 112, 155, 97, 186, 145, 145, 84, 97, 147, 129, 81, 75, 112, 116, 84, 84, 129, 56, 75, 139, 103, 97, 158, 113, 145, 113, 113, 97, 94, 134, 121, 113, 134, 113, 103, 112, 121, 129, 112, 129, 131, 121, 84, 150, 126, 84, 97, 137, 84, 81, 84, 121] 75\n"
          ],
          "name": "stdout"
        },
        {
          "output_type": "stream",
          "text": [
            "         1      -12262.0523             +nan\n",
            "         2       -5162.7810       +7099.2712\n",
            "         3       -4136.7501       +1026.0310\n",
            "         4       -3625.4705        +511.2796\n",
            "         5       -3333.4156        +292.0549\n",
            "         6       -3212.1708        +121.2449\n",
            "         7       -3143.4109         +68.7599\n",
            "         8       -3121.4543         +21.9566\n",
            "         9       -3116.7283          +4.7260\n",
            "        10       -3110.1387          +6.5896\n",
            "        11       -3104.3762          +5.7625\n",
            "        12       -3101.4313          +2.9448\n",
            "        13       -3098.9911          +2.4402\n",
            "        14       -3096.7319          +2.2593\n",
            "        15       -3094.7006          +2.0312\n",
            "        16       -3093.0067          +1.6940\n",
            "        17       -3091.6617          +1.3450\n",
            "        18       -3090.5720          +1.0897\n",
            "        19       -3089.6277          +0.9443\n",
            "        20       -3088.7421          +0.8856\n",
            "        21       -3087.8394          +0.9027\n",
            "        22       -3086.7922          +1.0472\n",
            "        23       -3085.4631          +1.3291\n",
            "        24       -3084.2463          +1.2169\n",
            "        25       -3083.3944          +0.8518\n",
            "        26       -3082.6926          +0.7018\n",
            "        27       -3082.0766          +0.6160\n",
            "        28       -3081.5388          +0.5378\n",
            "        29       -3081.0803          +0.4585\n",
            "        30       -3080.7003          +0.3799\n",
            "        31       -3080.3942          +0.3061\n",
            "        32       -3080.1541          +0.2401\n",
            "        33       -3079.9704          +0.1836\n",
            "        34       -3079.8331          +0.1373\n",
            "        35       -3079.7324          +0.1008\n",
            "        36       -3079.6593          +0.0731\n",
            "        37       -3079.6066          +0.0527\n",
            "        38       -3079.5685          +0.0380\n",
            "        39       -3079.5410          +0.0275\n",
            "        40       -3079.5211          +0.0200\n",
            "        41       -3079.5065          +0.0146\n",
            "        42       -3079.4958          +0.0107\n",
            "        43       -3079.4879          +0.0079\n"
          ],
          "name": "stderr"
        }
      ]
    },
    {
      "cell_type": "code",
      "metadata": {
        "id": "zIysSZiTcq_6",
        "colab_type": "code",
        "colab": {}
      },
      "source": [
        "pickle.dump(models, open('model.pkl','wb'))"
      ],
      "execution_count": 79,
      "outputs": []
    },
    {
      "cell_type": "code",
      "metadata": {
        "id": "3oD_2nzYfP4c",
        "colab_type": "code",
        "colab": {}
      },
      "source": [
        "dataset[\"test_bat_den\"] = list([kmeans.predict(v).reshape(-1,1) for v in dataset['test_bat_den']])\n",
        "dataset[\"test_tat_den\"] = list([kmeans.predict(v).reshape(-1,1) for v in dataset['test_tat_den']])\n",
        "\n",
        "print(\"Accuracy:\")\n",
        "mapping = [\"bat_den\", \"tat_den\"]\n",
        "class_names = [\"test_bat_den\",\"test_tat_den\"]\n",
        "count = 0\n",
        "correct = 0\n",
        "for true_cname in class_names:\n",
        "    score = []\n",
        "    for i in dataset[true_cname]:\n",
        "        score = [model.score(i, [len(i)]) for cname, model in models.items() if cname[:4] != 'test']\n",
        "        res = mapping[score.index(max(score))] \n",
        "        if res == true_cname[5:]:\n",
        "            correct += 1\n",
        "        count += 1 \n",
        "print(100*correct/count, \"%\")"
      ],
      "execution_count": null,
      "outputs": []
    },
    {
      "cell_type": "code",
      "metadata": {
        "id": "RcHslIwc0-je",
        "colab_type": "code",
        "colab": {
          "base_uri": "https://localhost:8080/",
          "height": 68
        },
        "outputId": "f3bf80f3-35e0-4092-b227-85da780a2145"
      },
      "source": [
        "models = pickle.load(open('model.pkl', 'rb'))\n",
        "file_name = '/content/drive/My Drive/data/test_tat_den/24.wav'\n",
        " # file_name = request.get_json()['file_name']\n",
        "sound_mfcc = get_mfcc(file_name)\n",
        "kmeans = clustering(sound_mfcc)\n",
        "sound_mfcc = kmeans.predict(sound_mfcc).reshape(-1,1)\n",
        "score = {cname : model.score(sound_mfcc, [len(sound_mfcc)]) for cname, model in models.items()}\n",
        "predict = max(score.keys(), key=(lambda k: score[k]))\n",
        "    # return jsonify(score)\n",
        "print(score)\n",
        "print(predict)"
      ],
      "execution_count": 98,
      "outputs": [
        {
          "output_type": "stream",
          "text": [
            "centers (5, 36)\n",
            "{'bat_den': -387.7714268408532, 'tat_den': -237.29413272001696}\n",
            "tat_den\n"
          ],
          "name": "stdout"
        }
      ]
    }
  ]
}