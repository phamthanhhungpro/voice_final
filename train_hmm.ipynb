{
  "nbformat": 4,
  "nbformat_minor": 0,
  "metadata": {
    "colab": {
      "name": "XLTN.ipynb",
      "provenance": [],
      "collapsed_sections": []
    },
    "kernelspec": {
      "name": "python3",
      "display_name": "Python 3"
    }
  },
  "cells": [
    {
      "cell_type": "code",
      "metadata": {
        "id": "YSer4bv2JH3K",
        "colab_type": "code",
        "colab": {
          "base_uri": "https://localhost:8080/",
          "height": 34
        },
        "outputId": "dcd331ef-f25b-4d0a-8e10-4726060ae989"
      },
      "source": [
        "from google.colab import drive\n",
        "drive.mount('/content/drive')"
      ],
      "execution_count": 196,
      "outputs": [
        {
          "output_type": "stream",
          "text": [
            "Drive already mounted at /content/drive; to attempt to forcibly remount, call drive.mount(\"/content/drive\", force_remount=True).\n"
          ],
          "name": "stdout"
        }
      ]
    },
    {
      "cell_type": "code",
      "metadata": {
        "id": "xSAPjoK4-Omc",
        "colab_type": "code",
        "colab": {
          "base_uri": "https://localhost:8080/",
          "height": 34
        },
        "outputId": "a40cc1d4-1cf4-4ac1-9067-6628ba79cc29"
      },
      "source": [
        "%cd /content/drive/My Drive"
      ],
      "execution_count": 197,
      "outputs": [
        {
          "output_type": "stream",
          "text": [
            "/content/drive/My Drive\n"
          ],
          "name": "stdout"
        }
      ]
    },
    {
      "cell_type": "code",
      "metadata": {
        "id": "lBrxtWLJAZtE",
        "colab_type": "code",
        "colab": {}
      },
      "source": [
        "import pickle\n",
        "import random"
      ],
      "execution_count": 198,
      "outputs": []
    },
    {
      "cell_type": "code",
      "metadata": {
        "id": "Gnhk2kAzTp2-",
        "colab_type": "code",
        "colab": {
          "base_uri": "https://localhost:8080/",
          "height": 102
        },
        "outputId": "166ffb7e-0ffc-49fc-cf6a-6308d89cd0cd"
      },
      "source": [
        "!pip install hmmlearn"
      ],
      "execution_count": 199,
      "outputs": [
        {
          "output_type": "stream",
          "text": [
            "Requirement already satisfied: hmmlearn in /usr/local/lib/python3.6/dist-packages (0.2.3)\n",
            "Requirement already satisfied: scikit-learn>=0.16 in /usr/local/lib/python3.6/dist-packages (from hmmlearn) (0.22.2.post1)\n",
            "Requirement already satisfied: scipy>=0.15 in /usr/local/lib/python3.6/dist-packages (from hmmlearn) (1.4.1)\n",
            "Requirement already satisfied: numpy>=1.10 in /usr/local/lib/python3.6/dist-packages (from hmmlearn) (1.18.5)\n",
            "Requirement already satisfied: joblib>=0.11 in /usr/local/lib/python3.6/dist-packages (from scikit-learn>=0.16->hmmlearn) (0.15.1)\n"
          ],
          "name": "stdout"
        }
      ]
    },
    {
      "cell_type": "code",
      "metadata": {
        "id": "Qr-kCUlP-iSJ",
        "colab_type": "code",
        "colab": {}
      },
      "source": [
        "import librosa\n",
        "import numpy as np\n",
        "import os\n",
        "import math\n",
        "from sklearn.cluster import KMeans\n",
        "import hmmlearn.hmm"
      ],
      "execution_count": 200,
      "outputs": []
    },
    {
      "cell_type": "code",
      "metadata": {
        "id": "mL-U3QMF-scI",
        "colab_type": "code",
        "colab": {}
      },
      "source": [
        "import tensorflow as tf\n",
        "from tensorflow import keras"
      ],
      "execution_count": 201,
      "outputs": []
    },
    {
      "cell_type": "code",
      "metadata": {
        "id": "ya2I1RVS-0V_",
        "colab_type": "code",
        "colab": {}
      },
      "source": [
        "def get_mfcc(file_path):\n",
        "    y, sr = librosa.load(file_path) # read .wav file\n",
        "    hop_length = math.floor(sr*0.010) # 10ms hop\n",
        "    win_length = math.floor(sr*0.025) # 25ms frame\n",
        "    # mfcc is 12 x T matrix\n",
        "    mfcc = librosa.feature.mfcc(\n",
        "        y, sr, n_mfcc=12, n_fft=1024,\n",
        "        hop_length=hop_length)\n",
        "        #hop_length=hop_length, win_length=win_length)\n",
        "    # substract mean from mfcc --> normalize mfcc\n",
        "    mfcc = mfcc - np.mean(mfcc, axis=1).reshape((-1,1)) \n",
        "    # delta feature 1st order and 2nd order\n",
        "    delta1 = librosa.feature.delta(mfcc, order=1)\n",
        "    delta2 = librosa.feature.delta(mfcc, order=2)\n",
        "    # X is 36 x T\n",
        "    X = np.concatenate([mfcc, delta1, delta2], axis=0) # O^r\n",
        "    # return T x 36 (transpose of X)\n",
        "    return X.T # hmmlearn use T x N matrix"
      ],
      "execution_count": 202,
      "outputs": []
    },
    {
      "cell_type": "code",
      "metadata": {
        "id": "AQOVsyJZ-6p3",
        "colab_type": "code",
        "colab": {}
      },
      "source": [
        "def get_class_data(data_dir):\n",
        "    files = os.listdir(data_dir)\n",
        "    mfcc = [get_mfcc(os.path.join(data_dir,f)) for f in files if f.endswith(\".wav\")]\n",
        "    return mfcc"
      ],
      "execution_count": 203,
      "outputs": []
    },
    {
      "cell_type": "code",
      "metadata": {
        "id": "42Jmjsli-9bH",
        "colab_type": "code",
        "colab": {}
      },
      "source": [
        "def clustering(X, n_clusters=5):\n",
        "    kmeans = KMeans(n_clusters=n_clusters, n_init=50, random_state=0, verbose=0)\n",
        "    kmeans.fit(X)\n",
        "    print(\"centers\", kmeans.cluster_centers_.shape)\n",
        "    return kmeans  "
      ],
      "execution_count": 204,
      "outputs": []
    },
    {
      "cell_type": "code",
      "metadata": {
        "id": "ISVBg1nc_DY-",
        "colab_type": "code",
        "colab": {
          "base_uri": "https://localhost:8080/",
          "height": 68
        },
        "outputId": "4e6d75a5-b232-4374-d729-4e22b3f8abec"
      },
      "source": [
        "class_names = [\"bat_den\", \"tat_den\"]\n",
        "dataset = {}\n",
        "for cname in class_names:\n",
        "    print(f\"Load {cname} dataset\")\n",
        "    dataset[cname] = get_class_data(os.path.join(\"./data/\", cname))\n",
        "print(\"Load complete !\")"
      ],
      "execution_count": 205,
      "outputs": [
        {
          "output_type": "stream",
          "text": [
            "Load bat_den dataset\n",
            "Load tat_den dataset\n",
            "Load complete !\n"
          ],
          "name": "stdout"
        }
      ]
    },
    {
      "cell_type": "code",
      "metadata": {
        "id": "RFFDVPd5_bA-",
        "colab_type": "code",
        "colab": {
          "base_uri": "https://localhost:8080/",
          "height": 68
        },
        "outputId": "c6139b7e-89f3-473f-bead-8eaf08e0e91a"
      },
      "source": [
        "\n",
        "# Get all vectors in the datasets\n",
        "all_vectors = np.concatenate([np.concatenate(v, axis=0) for k, v in dataset.items()], axis=0)\n",
        "print(\"vectors\", all_vectors.shape)\n",
        "# Run K-Means algorithm to get clusters\n",
        "kmeans = clustering(all_vectors)\n",
        "print(\"centers\", kmeans.cluster_centers_.shape)"
      ],
      "execution_count": 206,
      "outputs": [
        {
          "output_type": "stream",
          "text": [
            "vectors (18611, 36)\n",
            "centers (5, 36)\n",
            "centers (5, 36)\n"
          ],
          "name": "stdout"
        }
      ]
    },
    {
      "cell_type": "code",
      "metadata": {
        "id": "E4S33KPkMc3w",
        "colab_type": "code",
        "colab": {
          "base_uri": "https://localhost:8080/",
          "height": 85
        },
        "outputId": "b33919ef-376b-4780-f56f-0d68930a8dfc"
      },
      "source": [
        "for key, val in dataset.items():\n",
        "    print(key,'\\n', np.array(val).shape)"
      ],
      "execution_count": 207,
      "outputs": [
        {
          "output_type": "stream",
          "text": [
            "bat_den \n",
            " (75,)\n",
            "tat_den \n",
            " (75,)\n"
          ],
          "name": "stdout"
        }
      ]
    },
    {
      "cell_type": "code",
      "metadata": {
        "id": "5_mkeAl3cZrS",
        "colab_type": "code",
        "colab": {}
      },
      "source": [
        "models = {}\n",
        "original_dataset = {}"
      ],
      "execution_count": 208,
      "outputs": []
    },
    {
      "cell_type": "code",
      "metadata": {
        "id": "qn9MushJ_rlF",
        "colab_type": "code",
        "colab": {
          "base_uri": "https://localhost:8080/",
          "height": 802
        },
        "outputId": "eeebb4fb-3aaf-45e2-87c8-993a0351bb4c"
      },
      "source": [
        "cname = \"bat_den\"\n",
        "original_dataset[cname] = dataset[cname].copy()\n",
        "class_vectors = dataset[cname]\n",
        "\n",
        "dataset[cname] = list([kmeans.predict(v).reshape(-1,1) for v in original_dataset[cname]])\n",
        "random.shuffle(dataset[cname])\n",
        "\n",
        "hmm = hmmlearn.hmm.MultinomialHMM(\n",
        "    n_components=19, random_state=0, n_iter=1000, verbose=True,\n",
        "    params='te',\n",
        "    init_params='e'\n",
        ")\n",
        "hmm.startprob_=np.array([0.7, 0.2, 0.1, 0.0, 0.0, 0.0, 0.0, 0.0, 0.0, 0.0, 0.0, 0.0, 0.0, 0.0, 0.0, 0.0, 0.0, 0.0, 0.0])\n",
        "hmm.transmat_=np.array([ \n",
        "    [0.7, 0.2, 0.1, 0.0, 0.0, 0.0, 0.0, 0.0, 0.0, 0.0, 0.0, 0.0, 0.0, 0.0, 0.0, 0.0, 0.0, 0.0, 0.0],\n",
        "    [0.0, 0.7, 0.2, 0.1, 0.0, 0.0, 0.0, 0.0, 0.0, 0.0, 0.0, 0.0, 0.0, 0.0, 0.0, 0.0, 0.0, 0.0, 0.0],\n",
        "    [0.0, 0.0, 0.7, 0.2, 0.1, 0.0, 0.0, 0.0, 0.0, 0.0, 0.0, 0.0, 0.0, 0.0, 0.0, 0.0, 0.0, 0.0, 0.0],\n",
        "    [0.0, 0.0, 0.0, 0.7, 0.2, 0.1, 0.0, 0.0, 0.0, 0.0, 0.0, 0.0, 0.0, 0.0, 0.0, 0.0, 0.0, 0.0, 0.0],\n",
        "    [0.0, 0.0, 0.0, 0.0, 0.7, 0.2, 0.1, 0.0, 0.0, 0.0, 0.0, 0.0, 0.0, 0.0, 0.0, 0.0, 0.0, 0.0, 0.0],\n",
        "    [0.0, 0.0, 0.0, 0.0, 0.0, 0.7, 0.2, 0.1, 0.0, 0.0, 0.0, 0.0, 0.0, 0.0, 0.0, 0.0, 0.0, 0.0, 0.0],\n",
        "    [0.0, 0.0, 0.0, 0.0, 0.0, 0.0, 0.7, 0.2, 0.1, 0.0, 0.0, 0.0, 0.0, 0.0, 0.0, 0.0, 0.0, 0.0, 0.0],\n",
        "    [0.0, 0.0, 0.0, 0.0, 0.0, 0.0, 0.0, 0.7, 0.2, 0.1, 0.0, 0.0, 0.0, 0.0, 0.0, 0.0, 0.0, 0.0, 0.0],\n",
        "    [0.0, 0.0, 0.0, 0.0, 0.0, 0.0, 0.0, 0.0, 0.7, 0.2, 0.1, 0.0, 0.0, 0.0, 0.0, 0.0, 0.0, 0.0, 0.0],\n",
        "    [0.0, 0.0, 0.0, 0.0, 0.0, 0.0, 0.0, 0.0, 0.0, 0.7, 0.2, 0.1, 0.0, 0.0, 0.0, 0.0, 0.0, 0.0, 0.0],\n",
        "    [0.0, 0.0, 0.0, 0.0, 0.0, 0.0, 0.0, 0.0, 0.0, 0.0, 0.7, 0.2, 0.1, 0.0, 0.0, 0.0, 0.0, 0.0, 0.0],\n",
        "    [0.0, 0.0, 0.0, 0.0, 0.0, 0.0, 0.0, 0.0, 0.0, 0.0, 0.0, 0.7, 0.2, 0.1, 0.0, 0.0, 0.0, 0.0, 0.0],\n",
        "    [0.0, 0.0, 0.0, 0.0, 0.0, 0.0, 0.0, 0.0, 0.0, 0.0, 0.0, 0.0, 0.7, 0.2, 0.1, 0.0, 0.0, 0.0, 0.0],\n",
        "    [0.0, 0.0, 0.0, 0.0, 0.0, 0.0, 0.0, 0.0, 0.0, 0.0, 0.0, 0.0, 0.0, 0.7, 0.2, 0.1, 0.0, 0.0, 0.0],\n",
        "    [0.0, 0.0, 0.0, 0.0, 0.0, 0.0, 0.0, 0.0, 0.0, 0.0, 0.0, 0.0, 0.0, 0.0, 0.7, 0.2, 0.1, 0.0, 0.0],\n",
        "    [0.0, 0.0, 0.0, 0.0, 0.0, 0.0, 0.0, 0.0, 0.0, 0.0, 0.0, 0.0, 0.0, 0.0, 0.0, 0.7, 0.2, 0.1, 0.0],\n",
        "    [0.0, 0.0, 0.0, 0.0, 0.0, 0.0, 0.0, 0.0, 0.0, 0.0, 0.0, 0.0, 0.0, 0.0, 0.0, 0.0, 0.7, 0.2, 0.1],\n",
        "    [0.0, 0.0, 0.0, 0.0, 0.0, 0.0, 0.0, 0.0, 0.0, 0.0, 0.0, 0.0, 0.0, 0.0, 0.0, 0.0, 0.0, 0.7, 0.3],\n",
        "    [0.0, 0.0, 0.0, 0.0, 0.0, 0.0, 0.0, 0.0, 0.0, 0.0, 0.0, 0.0, 0.0, 0.0, 0.0, 0.0, 0.0, 0.0, 1.]\n",
        "    ])\n",
        "if cname[:4] != 'test':\n",
        "  X = np.concatenate(dataset[cname])\n",
        "  lengths = list([len(x) for x in dataset[cname]])\n",
        "  print(\"training class\", cname)\n",
        "  print(X.shape, lengths, len(lengths))\n",
        "  hmm.fit(X, lengths=lengths)\n",
        "  models[cname] = hmm"
      ],
      "execution_count": 209,
      "outputs": [
        {
          "output_type": "stream",
          "text": [
            "training class bat_den\n",
            "(10146, 1) [116, 124, 84, 100, 225, 177, 193, 129, 103, 140, 202, 131, 94, 165, 171, 103, 161, 129, 129, 145, 94, 108, 139, 103, 147, 145, 84, 181, 75, 122, 193, 110, 165, 161, 75, 241, 129, 161, 137, 94, 94, 84, 137, 145, 145, 97, 171, 84, 140, 100, 124, 161, 161, 161, 137, 161, 131, 84, 112, 209, 193, 84, 84, 103, 194, 137, 177, 84, 145, 177, 103, 139, 84, 225, 94] 75\n"
          ],
          "name": "stdout"
        },
        {
          "output_type": "stream",
          "text": [
            "         1      -13355.3960             +nan\n",
            "         2       -5717.5754       +7637.8206\n",
            "         3       -4345.1989       +1372.3765\n",
            "         4       -3986.1240        +359.0749\n",
            "         5       -3781.6535        +204.4706\n",
            "         6       -3604.6434        +177.0101\n",
            "         7       -3425.4749        +179.1685\n",
            "         8       -3381.5490         +43.9259\n",
            "         9       -3361.0065         +20.5425\n",
            "        10       -3349.4582         +11.5483\n",
            "        11       -3343.4489          +6.0093\n",
            "        12       -3339.2790          +4.1698\n",
            "        13       -3333.8142          +5.4649\n",
            "        14       -3327.5622          +6.2519\n",
            "        15       -3324.3708          +3.1915\n",
            "        16       -3320.9974          +3.3734\n",
            "        17       -3317.4140          +3.5833\n",
            "        18       -3313.9683          +3.4457\n",
            "        19       -3310.7167          +3.2516\n",
            "        20       -3307.6538          +3.0629\n",
            "        21       -3304.8710          +2.7829\n",
            "        22       -3302.5388          +2.3322\n",
            "        23       -3300.8035          +1.7353\n",
            "        24       -3299.6602          +1.1433\n",
            "        25       -3298.9649          +0.6953\n",
            "        26       -3298.5502          +0.4147\n",
            "        27       -3298.2945          +0.2557\n",
            "        28       -3298.1250          +0.1695\n",
            "        29       -3298.0012          +0.1238\n",
            "        30       -3297.9015          +0.0997\n",
            "        31       -3297.8140          +0.0875\n",
            "        32       -3297.7315          +0.0825\n",
            "        33       -3297.6469          +0.0846\n",
            "        34       -3297.5492          +0.0977\n",
            "        35       -3297.4181          +0.1311\n",
            "        36       -3297.2127          +0.2055\n",
            "        37       -3296.8435          +0.3692\n",
            "        38       -3296.0774          +0.7661\n",
            "        39       -3294.7057          +1.3717\n",
            "        40       -3293.8552          +0.8505\n",
            "        41       -3293.6954          +0.1598\n",
            "        42       -3293.6685          +0.0269\n",
            "        43       -3293.6608          +0.0077\n"
          ],
          "name": "stderr"
        }
      ]
    },
    {
      "cell_type": "code",
      "metadata": {
        "id": "6od8ok7wcMaS",
        "colab_type": "code",
        "colab": {
          "base_uri": "https://localhost:8080/",
          "height": 632
        },
        "outputId": "e6af83f4-8b8d-47f4-9608-5750ea6ee3dd"
      },
      "source": [
        "cname = \"tat_den\"\n",
        "original_dataset[cname] = dataset[cname].copy()\n",
        "class_vectors = dataset[cname]\n",
        "\n",
        "dataset[cname] = list([kmeans.predict(v).reshape(-1,1) for v in original_dataset[cname]])\n",
        "random.shuffle(dataset[cname])\n",
        "\n",
        "hmm = hmmlearn.hmm.MultinomialHMM(\n",
        "    n_components=19, random_state=0, n_iter=1000, verbose=True,\n",
        "    params='te',\n",
        "    init_params='e'\n",
        ")\n",
        "hmm.startprob_=np.array([0.7, 0.2, 0.1, 0.0, 0.0, 0.0, 0.0, 0.0, 0.0, 0.0, 0.0, 0.0, 0.0, 0.0, 0.0, 0.0, 0.0, 0.0, 0.0])\n",
        "hmm.transmat_=np.array([ \n",
        "    [0.7, 0.2, 0.1, 0.0, 0.0, 0.0, 0.0, 0.0, 0.0, 0.0, 0.0, 0.0, 0.0, 0.0, 0.0, 0.0, 0.0, 0.0, 0.0],\n",
        "    [0.0, 0.7, 0.2, 0.1, 0.0, 0.0, 0.0, 0.0, 0.0, 0.0, 0.0, 0.0, 0.0, 0.0, 0.0, 0.0, 0.0, 0.0, 0.0],\n",
        "    [0.0, 0.0, 0.7, 0.2, 0.1, 0.0, 0.0, 0.0, 0.0, 0.0, 0.0, 0.0, 0.0, 0.0, 0.0, 0.0, 0.0, 0.0, 0.0],\n",
        "    [0.0, 0.0, 0.0, 0.7, 0.2, 0.1, 0.0, 0.0, 0.0, 0.0, 0.0, 0.0, 0.0, 0.0, 0.0, 0.0, 0.0, 0.0, 0.0],\n",
        "    [0.0, 0.0, 0.0, 0.0, 0.7, 0.2, 0.1, 0.0, 0.0, 0.0, 0.0, 0.0, 0.0, 0.0, 0.0, 0.0, 0.0, 0.0, 0.0],\n",
        "    [0.0, 0.0, 0.0, 0.0, 0.0, 0.7, 0.2, 0.1, 0.0, 0.0, 0.0, 0.0, 0.0, 0.0, 0.0, 0.0, 0.0, 0.0, 0.0],\n",
        "    [0.0, 0.0, 0.0, 0.0, 0.0, 0.0, 0.7, 0.2, 0.1, 0.0, 0.0, 0.0, 0.0, 0.0, 0.0, 0.0, 0.0, 0.0, 0.0],\n",
        "    [0.0, 0.0, 0.0, 0.0, 0.0, 0.0, 0.0, 0.7, 0.2, 0.1, 0.0, 0.0, 0.0, 0.0, 0.0, 0.0, 0.0, 0.0, 0.0],\n",
        "    [0.0, 0.0, 0.0, 0.0, 0.0, 0.0, 0.0, 0.0, 0.7, 0.2, 0.1, 0.0, 0.0, 0.0, 0.0, 0.0, 0.0, 0.0, 0.0],\n",
        "    [0.0, 0.0, 0.0, 0.0, 0.0, 0.0, 0.0, 0.0, 0.0, 0.7, 0.2, 0.1, 0.0, 0.0, 0.0, 0.0, 0.0, 0.0, 0.0],\n",
        "    [0.0, 0.0, 0.0, 0.0, 0.0, 0.0, 0.0, 0.0, 0.0, 0.0, 0.7, 0.2, 0.1, 0.0, 0.0, 0.0, 0.0, 0.0, 0.0],\n",
        "    [0.0, 0.0, 0.0, 0.0, 0.0, 0.0, 0.0, 0.0, 0.0, 0.0, 0.0, 0.7, 0.2, 0.1, 0.0, 0.0, 0.0, 0.0, 0.0],\n",
        "    [0.0, 0.0, 0.0, 0.0, 0.0, 0.0, 0.0, 0.0, 0.0, 0.0, 0.0, 0.0, 0.7, 0.2, 0.1, 0.0, 0.0, 0.0, 0.0],\n",
        "    [0.0, 0.0, 0.0, 0.0, 0.0, 0.0, 0.0, 0.0, 0.0, 0.0, 0.0, 0.0, 0.0, 0.7, 0.2, 0.1, 0.0, 0.0, 0.0],\n",
        "    [0.0, 0.0, 0.0, 0.0, 0.0, 0.0, 0.0, 0.0, 0.0, 0.0, 0.0, 0.0, 0.0, 0.0, 0.7, 0.2, 0.1, 0.0, 0.0],\n",
        "    [0.0, 0.0, 0.0, 0.0, 0.0, 0.0, 0.0, 0.0, 0.0, 0.0, 0.0, 0.0, 0.0, 0.0, 0.0, 0.7, 0.2, 0.1, 0.0],\n",
        "    [0.0, 0.0, 0.0, 0.0, 0.0, 0.0, 0.0, 0.0, 0.0, 0.0, 0.0, 0.0, 0.0, 0.0, 0.0, 0.0, 0.7, 0.2, 0.1],\n",
        "    [0.0, 0.0, 0.0, 0.0, 0.0, 0.0, 0.0, 0.0, 0.0, 0.0, 0.0, 0.0, 0.0, 0.0, 0.0, 0.0, 0.0, 0.7, 0.3],\n",
        "    [0.0, 0.0, 0.0, 0.0, 0.0, 0.0, 0.0, 0.0, 0.0, 0.0, 0.0, 0.0, 0.0, 0.0, 0.0, 0.0, 0.0, 0.0, 1.]\n",
        "    ])\n",
        "\n",
        "if cname[:4] != 'test':\n",
        "  X = np.concatenate(dataset[cname])\n",
        "  lengths = list([len(x) for x in dataset[cname]])\n",
        "  print(\"training class\", cname)\n",
        "  print(X.shape, lengths, len(lengths))\n",
        "  hmm.fit(X, lengths=lengths)\n",
        "  models[cname] = hmm"
      ],
      "execution_count": 210,
      "outputs": [
        {
          "output_type": "stream",
          "text": [
            "training class tat_den\n",
            "(8465, 1) [75, 81, 103, 94, 116, 84, 84, 84, 129, 129, 121, 112, 129, 129, 75, 84, 112, 56, 126, 113, 113, 129, 139, 129, 186, 103, 145, 97, 97, 121, 113, 145, 84, 113, 121, 75, 150, 145, 97, 163, 84, 134, 84, 112, 84, 75, 158, 97, 97, 94, 84, 112, 145, 97, 113, 155, 129, 142, 129, 147, 94, 97, 84, 134, 97, 137, 129, 113, 126, 81, 139, 97, 131, 112, 121] 75\n"
          ],
          "name": "stdout"
        },
        {
          "output_type": "stream",
          "text": [
            "         1      -11283.4706             +nan\n",
            "         2       -4878.4887       +6404.9819\n",
            "         3       -3984.5334        +893.9553\n",
            "         4       -3813.2249        +171.3085\n",
            "         5       -3704.5455        +108.6794\n",
            "         6       -3619.3969         +85.1486\n",
            "         7       -3577.0562         +42.3408\n",
            "         8       -3555.2470         +21.8092\n",
            "         9       -3538.1145         +17.1324\n",
            "        10       -3521.8436         +16.2710\n",
            "        11       -3508.6309         +13.2126\n",
            "        12       -3501.1767          +7.4543\n",
            "        13       -3497.0627          +4.1140\n",
            "        14       -3494.7357          +2.3270\n",
            "        15       -3493.4469          +1.2888\n",
            "        16       -3492.6559          +0.7911\n",
            "        17       -3492.1052          +0.5507\n",
            "        18       -3491.6889          +0.4162\n",
            "        19       -3491.3529          +0.3360\n",
            "        20       -3491.0689          +0.2840\n",
            "        21       -3490.8289          +0.2400\n",
            "        22       -3490.6352          +0.1937\n",
            "        23       -3490.4884          +0.1468\n",
            "        24       -3490.3830          +0.1054\n",
            "        25       -3490.3096          +0.0734\n",
            "        26       -3490.2586          +0.0510\n",
            "        27       -3490.2225          +0.0362\n",
            "        28       -3490.1960          +0.0265\n",
            "        29       -3490.1758          +0.0201\n",
            "        30       -3490.1600          +0.0158\n",
            "        31       -3490.1473          +0.0128\n",
            "        32       -3490.1367          +0.0105\n",
            "        33       -3490.1279          +0.0088\n"
          ],
          "name": "stderr"
        }
      ]
    },
    {
      "cell_type": "code",
      "metadata": {
        "id": "zIysSZiTcq_6",
        "colab_type": "code",
        "colab": {}
      },
      "source": [
        "pickle.dump(models, open('model.pkl','wb'))"
      ],
      "execution_count": 211,
      "outputs": []
    },
    {
      "cell_type": "code",
      "metadata": {
        "id": "3oD_2nzYfP4c",
        "colab_type": "code",
        "colab": {
          "base_uri": "https://localhost:8080/",
          "height": 102
        },
        "outputId": "9bb6ae2d-4b37-4db9-c912-118ed26e7532"
      },
      "source": [
        "class_names = [\"test_bat_den\", \"test_tat_den\"]\n",
        "dataset = {}\n",
        "for cname in class_names:\n",
        "    print(f\"Load {cname} dataset\")\n",
        "    dataset[cname] = get_class_data(os.path.join(\"./data/\", cname))\n",
        "print(\"Load complete !\")\n",
        "\n",
        "dataset[\"test_bat_den\"] = list([kmeans.predict(v).reshape(-1,1) for v in dataset['test_bat_den']])\n",
        "dataset[\"test_tat_den\"] = list([kmeans.predict(v).reshape(-1,1) for v in dataset['test_tat_den']])\n",
        "\n",
        "print(\"Accuracy:\")\n",
        "mapping = [\"bat_den\", \"tat_den\"]\n",
        "class_names = [\"test_bat_den\",\"test_tat_den\"]\n",
        "count = 0\n",
        "correct = 0\n",
        "for true_cname in class_names:\n",
        "    score = []\n",
        "    for i in dataset[true_cname]:\n",
        "        score = [model.score(i, [len(i)]) for cname, model in models.items() if cname[:4] != 'test']\n",
        "        res = mapping[score.index(max(score))] \n",
        "        if res == true_cname[5:]:\n",
        "            correct += 1\n",
        "        count += 1 \n",
        "print(100*correct/count, \"%\")"
      ],
      "execution_count": 212,
      "outputs": [
        {
          "output_type": "stream",
          "text": [
            "Load test_bat_den dataset\n",
            "Load test_tat_den dataset\n",
            "Load complete !\n",
            "Accuracy:\n",
            "76.08695652173913 %\n"
          ],
          "name": "stdout"
        }
      ]
    },
    {
      "cell_type": "code",
      "metadata": {
        "id": "RcHslIwc0-je",
        "colab_type": "code",
        "colab": {
          "base_uri": "https://localhost:8080/",
          "height": 68
        },
        "outputId": "76e1e0b6-6b16-4941-ae93-596d0e019975"
      },
      "source": [
        "models = pickle.load(open('model.pkl', 'rb'))\n",
        "file_name = '/content/drive/My Drive/data/test_tat_den/1.wav'\n",
        " # file_name = request.get_json()['file_name']\n",
        "sound_mfcc = get_mfcc(file_name)\n",
        "kmeans = clustering(sound_mfcc)\n",
        "sound_mfcc = kmeans.predict(sound_mfcc).reshape(-1,1)\n",
        "score = {cname : model.score(sound_mfcc, [len(sound_mfcc)]) for cname, model in models.items()}\n",
        "predict = max(score.keys(), key=(lambda k: score[k]))\n",
        "    # return jsonify(score)\n",
        "print(score)\n",
        "print(predict)"
      ],
      "execution_count": 213,
      "outputs": [
        {
          "output_type": "stream",
          "text": [
            "centers (5, 36)\n",
            "{'bat_den': -899.839957659007, 'tat_den': -866.0467019201021}\n",
            "tat_den\n"
          ],
          "name": "stdout"
        }
      ]
    }
  ]
}